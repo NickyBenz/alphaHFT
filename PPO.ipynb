{
 "cells": [
  {
   "cell_type": "code",
   "execution_count": 1,
   "id": "19357d86-73e6-41a5-9009-9d02827ef9c3",
   "metadata": {},
   "outputs": [],
   "source": [
    "import numpy as np\n",
    "import pandas as pd\n",
    "import gymnasium as gym\n",
    "from sb3_contrib import RecurrentPPO\n",
    "from stable_baselines3.common.utils import set_random_seed\n",
    "from stable_baselines3.common.evaluation import evaluate_policy\n",
    "from stable_baselines3.common.vec_env import SubprocVecEnv\n",
    "from stable_baselines3.common.env_util import make_vec_env"
   ]
  },
  {
   "cell_type": "code",
   "execution_count": 2,
   "id": "490f1a11-8c9a-4a34-ab33-58225b1afdb8",
   "metadata": {},
   "outputs": [],
   "source": [
    "from Simulator.Exchange import Exchange\n",
    "from Simulator.Strategy import Strategy\n",
    "from Simulator.Order import Order\n",
    "from Simulator.OrderState import OrderState\n",
    "from TradeEnv.TradeGym import TradeEnv\n",
    "from Simulator.InverseInstrument import InverseInstrument"
   ]
  },
  {
   "cell_type": "code",
   "execution_count": 3,
   "id": "19191db2-5903-44dd-971e-80fe3af56108",
   "metadata": {},
   "outputs": [],
   "source": [
    "from typing import Callable\n",
    "\n",
    "def make_env(df, rank: int, seed: int = 0) -> Callable:\n",
    "    def _init() -> gym.Env:\n",
    "        instrument = InverseInstrument(\"BTC-PERPETUAL\", 0.5, 10, 0, 0.0005)\n",
    "        exchange = Exchange(df)\n",
    "        strategy = Strategy(instrument, exchange, 0.01, 0.0002)\n",
    "        env = TradeEnv(strategy, \"human\")\n",
    "\n",
    "        env.reset(seed=seed + rank)\n",
    "        return env\n",
    "\n",
    "    set_random_seed(seed)\n",
    "    return _init"
   ]
  },
  {
   "cell_type": "code",
   "execution_count": null,
   "id": "6f0c482f-1453-47b7-97ea-b9c269b7a685",
   "metadata": {},
   "outputs": [
    {
     "name": "stdout",
     "output_type": "stream",
     "text": [
      "iteration:  0 count:  86392 index:  59300\n"
     ]
    }
   ],
   "source": [
    "from IPython.display import clear_output\n",
    "import glob\n",
    "\n",
    "files = glob.glob(\"*.csv.gz\")\n",
    "\n",
    "model = None\n",
    "\n",
    "for file in files[:3]:\n",
    "    for j in range(0, 100):\n",
    "        df = pd.read_csv(file, header=0, index_col='timestamp', parse_dates=['timestamp'])\n",
    "        row_count = df.shape[0]\n",
    "        index = np.random.randint(low=0, high=row_count-7200)\n",
    "        print(\"iteration: \", j, \"count: \", row_count, \"index: \", index)\n",
    "        length = row_count - index + 1\n",
    "        env = SubprocVecEnv([make_env(df, i) for i in range(4)])    \n",
    "        if model is None:\n",
    "            model = RecurrentPPO(\"MlpLstmPolicy\", env, verbose=0, gamma=.99, n_steps=600)\n",
    "        else:\n",
    "            model.set_env(env)\n",
    "        \n",
    "        model = model.learn(length*4, progress_bar=False)\n",
    "        clear_output(True)\n",
    "\n",
    "#vec_env = model.get_env()\n",
    "#mean_reward, std_reward = evaluate_policy(model, vec_env, n_eval_episodes=20, warn=False)\n",
    "#print(mean_reward)\n",
    "\n",
    "model.save(\"ppo_recurrent\")\n",
    "del model # remove to demonstrate saving and loading"
   ]
  },
  {
   "cell_type": "code",
   "execution_count": null,
   "id": "6a0fd9e9-8c69-4652-a59f-2c7cf74730ef",
   "metadata": {},
   "outputs": [],
   "source": [
    "model = RecurrentPPO.load(\"ppo_recurrent\")\n",
    "\n",
    "df = pd.read_csv(files[3], header=0, index_col='timestamp', parse_dates=['timestamp'])\n",
    "exchange = Exchange(df)\n",
    "strategy = Strategy(instrument, exchange, 0.02, 0.0002)\n",
    "env = TradeEnv(strategy, \"human\")\n",
    "obs, info = env.reset()\n",
    "\n",
    "# cell and hidden state of the LSTM\n",
    "lstm_states = None\n",
    "\n",
    "episode_start = 1\n",
    "done = False\n",
    "truncated = False\n",
    "while not done and not truncated:\n",
    "    action, lstm_states = model.predict(obs, state=lstm_states, episode_start=episode_start, deterministic=True)\n",
    "    obs, reward, done, truncated, info = env.step(action)"
   ]
  },
  {
   "cell_type": "code",
   "execution_count": null,
   "id": "9697062f-49fa-4c52-b056-c1de6879daf9",
   "metadata": {},
   "outputs": [],
   "source": []
  }
 ],
 "metadata": {
  "kernelspec": {
   "display_name": "Python 3 (ipykernel)",
   "language": "python",
   "name": "python3"
  },
  "language_info": {
   "codemirror_mode": {
    "name": "ipython",
    "version": 3
   },
   "file_extension": ".py",
   "mimetype": "text/x-python",
   "name": "python",
   "nbconvert_exporter": "python",
   "pygments_lexer": "ipython3",
   "version": "3.11.7"
  }
 },
 "nbformat": 4,
 "nbformat_minor": 5
}
